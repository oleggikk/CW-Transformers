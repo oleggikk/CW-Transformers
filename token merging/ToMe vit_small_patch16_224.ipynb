{
 "cells": [
  {
   "cell_type": "code",
   "execution_count": 1,
   "id": "eacaa460",
   "metadata": {},
   "outputs": [],
   "source": [
    "import tome\n",
    "import torch\n",
    "import torch.nn as nn\n",
    "import timm\n",
    "import os\n",
    "from torchvision import datasets, transforms\n",
    "import copy\n",
    "import dill\n",
    "import time"
   ]
  },
  {
   "cell_type": "code",
   "execution_count": 2,
   "id": "ddfedc1b",
   "metadata": {},
   "outputs": [],
   "source": [
    "test_transforms = transforms.Compose(\n",
    "    [\n",
    "        transforms.Resize((224,224)),\n",
    "        transforms.ToTensor(),\n",
    "        transforms.Normalize(mean=[0.485, 0.456, 0.406],\n",
    "                                     std=[0.229, 0.224, 0.225])\n",
    "    ]\n",
    ")"
   ]
  },
  {
   "cell_type": "code",
   "execution_count": 3,
   "id": "4ddda14c",
   "metadata": {},
   "outputs": [],
   "source": [
    "kwargs = {'num_workers': 4, 'pin_memory': True} if torch.cuda.is_available() else {}\n",
    "test_dir = r\"C:\\Users\\Oleg\\Desktop\\Caltech256\\test\"\n",
    "test_dataset = datasets.ImageFolder(root=test_dir, transform=test_transforms)\n",
    "test_loader  = torch.utils.data.DataLoader(test_dataset, batch_size=64, shuffle=False, **kwargs) "
   ]
  },
  {
   "cell_type": "code",
   "execution_count": 4,
   "id": "557b3e40",
   "metadata": {},
   "outputs": [],
   "source": [
    "criterion = nn.CrossEntropyLoss()\n",
    "\n",
    "def test(model, loader, dataset):\n",
    "    epoch_val_accuracy = 0\n",
    "    epoch_val_loss = 0\n",
    "    model.eval()\n",
    "    start = time.time()\n",
    "    with torch.no_grad():\n",
    "        for data, label in loader:\n",
    "            data = data.to(device)\n",
    "            label = label.to(device)\n",
    "\n",
    "            val_output = model(data)\n",
    "            val_loss = criterion(val_output, label)\n",
    "\n",
    "            acc = (val_output.argmax(dim=1) == label).float().sum()\n",
    "            epoch_val_accuracy += acc\n",
    "            epoch_val_loss += val_loss\n",
    "        end = time.time()\n",
    "    epoch_val_accuracy /= len(dataset)\n",
    "    epoch_val_loss /= len(dataset)\n",
    "    return epoch_val_accuracy, epoch_val_loss, (end - start)/len(test_dataset)"
   ]
  },
  {
   "cell_type": "code",
   "execution_count": 5,
   "id": "fbfb0ac3",
   "metadata": {},
   "outputs": [],
   "source": [
    "model_paths = {\n",
    "    'mobilevit_s': r'C:\\Users\\Oleg\\Desktop\\CW\\models\\mobilevits-caltech256-e10-lr001-t69.pt',\n",
    "    'efficientformer': r'C:\\Users\\Oleg\\Desktop\\CW\\models\\eficcientformer-caltech256-e10-lr0003-t78.pt',\n",
    "    'deit_tiny': r'C:\\Users\\Oleg\\Desktop\\CW\\models\\deit_tiny_distilled_patch16_224-caltech256-e10-lr0001-t79.pt',\n",
    "    'vit_small': r'C:\\Users\\Oleg\\Desktop\\CW\\models\\vit_small_patch16_224-caltech256-e10-lr0002-t80.pt',\n",
    "    'swin_s3_tiny': r'C:\\Users\\Oleg\\Desktop\\CW\\models\\swin_s3_tiny_224-caltech256-e10-lr0002-t81.pt',\n",
    "    'swin_tiny_window7': r'C:\\Users\\Oleg\\Desktop\\CW\\models\\swin_tiny_patch4_window7_224-caltech256-e10-lr0001-t83.pt'\n",
    "}"
   ]
  },
  {
   "cell_type": "code",
   "execution_count": 6,
   "id": "81778dff",
   "metadata": {},
   "outputs": [],
   "source": [
    "device = 'cuda'"
   ]
  },
  {
   "cell_type": "code",
   "execution_count": 7,
   "id": "103b60ce",
   "metadata": {},
   "outputs": [],
   "source": [
    "model = torch.load(r'C:\\Users\\Oleg\\Desktop\\CW\\models\\vit_small_patch16_224-caltech256-e10-lr0002-t80.pt').to(device)"
   ]
  },
  {
   "cell_type": "code",
   "execution_count": 12,
   "id": "d7049207",
   "metadata": {},
   "outputs": [
    {
     "name": "stdout",
     "output_type": "stream",
     "text": [
      "test_acc: 0.8095 - inference time GPU: 0.00873506354282097\n",
      "\n"
     ]
    }
   ],
   "source": [
    "test_accuracy, test_loss, inf_time=test(model.to(device), test_loader, test_dataset)\n",
    "print(f\"test_acc: {test_accuracy:.4f} - inference time GPU: {inf_time}\\n\")"
   ]
  },
  {
   "cell_type": "code",
   "execution_count": 8,
   "id": "c187ed79",
   "metadata": {},
   "outputs": [],
   "source": [
    "runs = 50\n",
    "batch_size = 256\n",
    "input_size = model.default_cfg[\"input_size\"]"
   ]
  },
  {
   "cell_type": "code",
   "execution_count": 9,
   "id": "f9a8562c",
   "metadata": {},
   "outputs": [],
   "source": [
    "tome_model = copy.deepcopy(model)"
   ]
  },
  {
   "cell_type": "code",
   "execution_count": 10,
   "id": "f4788755",
   "metadata": {},
   "outputs": [
    {
     "name": "stderr",
     "output_type": "stream",
     "text": [
      "Benchmarking: 100%|████████████████████████████████████████████████████████████████████| 50/50 [01:03<00:00,  1.27s/it]\n"
     ]
    },
    {
     "name": "stdout",
     "output_type": "stream",
     "text": [
      "Throughput: 154.81 im/s\n"
     ]
    }
   ],
   "source": [
    "baseline_throughput = tome.utils.benchmark(\n",
    "    tome_model,\n",
    "    device=device,\n",
    "    verbose=True,\n",
    "    runs=runs,\n",
    "    batch_size=batch_size,\n",
    "    input_size=input_size\n",
    ")"
   ]
  },
  {
   "cell_type": "code",
   "execution_count": 11,
   "id": "686b5f41",
   "metadata": {},
   "outputs": [
    {
     "name": "stderr",
     "output_type": "stream",
     "text": [
      "Benchmarking: 100%|████████████████████████████████████████████████████████████████████| 50/50 [00:52<00:00,  1.05s/it]\n"
     ]
    },
    {
     "name": "stdout",
     "output_type": "stream",
     "text": [
      "Throughput: 223.52 im/s\n",
      "Throughput improvement: 1.44x\n"
     ]
    }
   ],
   "source": [
    "tome.patch.timm(tome_model)\n",
    "tome_model.r = 10\n",
    "tome_throughput = tome.utils.benchmark(\n",
    "    tome_model,\n",
    "    device=device,\n",
    "    verbose=True,\n",
    "    runs=runs,\n",
    "    batch_size=batch_size,\n",
    "    input_size=input_size\n",
    ")\n",
    "print(f\"Throughput improvement: {tome_throughput / baseline_throughput:.2f}x\")"
   ]
  },
  {
   "cell_type": "code",
   "execution_count": 13,
   "id": "c8914a4a",
   "metadata": {},
   "outputs": [
    {
     "name": "stdout",
     "output_type": "stream",
     "text": [
      "test_acc: 0.8074 - inference time GPU: 0.006379616769904993\n",
      "\n"
     ]
    }
   ],
   "source": [
    "test_accuracy, test_loss, inf_time=test(tome_model.to(device), test_loader, test_dataset)\n",
    "print(f\"test_acc: {test_accuracy:.4f} - inference time GPU: {inf_time}\\n\")"
   ]
  },
  {
   "cell_type": "code",
   "execution_count": 14,
   "id": "660cc70b",
   "metadata": {},
   "outputs": [
    {
     "name": "stderr",
     "output_type": "stream",
     "text": [
      "Benchmarking: 100%|████████████████████████████████████████████████████████████████████| 50/50 [00:38<00:00,  1.29it/s]\n"
     ]
    },
    {
     "name": "stdout",
     "output_type": "stream",
     "text": [
      "Throughput: 303.48 im/s\n",
      "Throughput improvement: 1.96x\n"
     ]
    }
   ],
   "source": [
    "tome_model.r = 16\n",
    "tome_throughput = tome.utils.benchmark(\n",
    "    tome_model,\n",
    "    device=device,\n",
    "    verbose=True,\n",
    "    runs=runs,\n",
    "    batch_size=batch_size,\n",
    "    input_size=input_size\n",
    ")\n",
    "print(f\"Throughput improvement: {tome_throughput / baseline_throughput:.2f}x\")"
   ]
  },
  {
   "cell_type": "code",
   "execution_count": 15,
   "id": "a28e3760",
   "metadata": {},
   "outputs": [
    {
     "name": "stdout",
     "output_type": "stream",
     "text": [
      "test_acc: 0.7989 - inference time GPU: 0.005255994748096077\n",
      "\n"
     ]
    }
   ],
   "source": [
    "test_accuracy, test_loss, inf_time=test(tome_model.to(device), test_loader, test_dataset)\n",
    "print(f\"test_acc: {test_accuracy:.4f} - inference time GPU: {inf_time}\\n\")"
   ]
  },
  {
   "cell_type": "code",
   "execution_count": 16,
   "id": "1d11090b",
   "metadata": {},
   "outputs": [
    {
     "name": "stderr",
     "output_type": "stream",
     "text": [
      "Benchmarking: 100%|████████████████████████████████████████████████████████████████████| 50/50 [00:32<00:00,  1.55it/s]\n"
     ]
    },
    {
     "name": "stdout",
     "output_type": "stream",
     "text": [
      "Throughput: 365.20 im/s\n",
      "Throughput improvement: 2.36x\n"
     ]
    }
   ],
   "source": [
    "tome_model.r = 20\n",
    "tome_throughput = tome.utils.benchmark(\n",
    "    tome_model,\n",
    "    device=device,\n",
    "    verbose=True,\n",
    "    runs=runs,\n",
    "    batch_size=batch_size,\n",
    "    input_size=input_size\n",
    ")\n",
    "print(f\"Throughput improvement: {tome_throughput / baseline_throughput:.2f}x\")"
   ]
  },
  {
   "cell_type": "code",
   "execution_count": 17,
   "id": "68154d02",
   "metadata": {},
   "outputs": [
    {
     "name": "stdout",
     "output_type": "stream",
     "text": [
      "test_acc: 0.7274 - inference time GPU: 0.00439454835592484\n",
      "\n"
     ]
    }
   ],
   "source": [
    "test_accuracy, test_loss, inf_time=test(tome_model.to(device), test_loader, test_dataset)\n",
    "print(f\"test_acc: {test_accuracy:.4f} - inference time GPU: {inf_time}\\n\")"
   ]
  },
  {
   "cell_type": "code",
   "execution_count": 18,
   "id": "9d21f3f9",
   "metadata": {},
   "outputs": [],
   "source": [
    "tome_model.r = 16"
   ]
  },
  {
   "cell_type": "code",
   "execution_count": 19,
   "id": "6c0c9eec",
   "metadata": {},
   "outputs": [],
   "source": [
    "# сохранение модели с помощью dill\n",
    "PATH = \"tome_vit_small_patch16_224.pt\"\n",
    "with open(PATH, \"wb\") as f:\n",
    "    dill.dump(tome_model, f)"
   ]
  }
 ],
 "metadata": {
  "kernelspec": {
   "display_name": "Python 3",
   "language": "python",
   "name": "python3"
  },
  "language_info": {
   "codemirror_mode": {
    "name": "ipython",
    "version": 3
   },
   "file_extension": ".py",
   "mimetype": "text/x-python",
   "name": "python",
   "nbconvert_exporter": "python",
   "pygments_lexer": "ipython3",
   "version": "3.8.16"
  }
 },
 "nbformat": 4,
 "nbformat_minor": 5
}
