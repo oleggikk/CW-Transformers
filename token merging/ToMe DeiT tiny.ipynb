{
 "cells": [
  {
   "cell_type": "code",
   "execution_count": 1,
   "id": "a30f9df6",
   "metadata": {},
   "outputs": [],
   "source": [
    "import tome\n",
    "import torch\n",
    "import torch.nn as nn\n",
    "import timm\n",
    "import os\n",
    "from torchvision import datasets, transforms\n",
    "import copy\n",
    "import dill\n",
    "import time"
   ]
  },
  {
   "cell_type": "code",
   "execution_count": 2,
   "id": "558ec6c1",
   "metadata": {},
   "outputs": [],
   "source": [
    "test_transforms = transforms.Compose(\n",
    "    [\n",
    "        transforms.Resize((224,224)),\n",
    "        transforms.ToTensor(),\n",
    "        transforms.Normalize(mean=[0.485, 0.456, 0.406],\n",
    "                                     std=[0.229, 0.224, 0.225])\n",
    "    ]\n",
    ")"
   ]
  },
  {
   "cell_type": "code",
   "execution_count": 3,
   "id": "8eed7e87",
   "metadata": {},
   "outputs": [],
   "source": [
    "kwargs = {'num_workers': 4, 'pin_memory': True} if torch.cuda.is_available() else {}\n",
    "test_dir = r\"C:\\Users\\Oleg\\Desktop\\Caltech256\\test\"\n",
    "test_dataset = datasets.ImageFolder(root=test_dir, transform=test_transforms)\n",
    "test_loader  = torch.utils.data.DataLoader(test_dataset, batch_size=64, shuffle=False, **kwargs) "
   ]
  },
  {
   "cell_type": "code",
   "execution_count": 4,
   "id": "c527cb5a",
   "metadata": {},
   "outputs": [],
   "source": [
    "criterion = nn.CrossEntropyLoss()\n",
    "\n",
    "def test(model, loader, dataset):\n",
    "    epoch_val_accuracy = 0\n",
    "    epoch_val_loss = 0\n",
    "    model.eval()\n",
    "    start = time.time()\n",
    "    with torch.no_grad():\n",
    "        for data, label in loader:\n",
    "            data = data.to(device)\n",
    "            label = label.to(device)\n",
    "\n",
    "            val_output = model(data)\n",
    "            val_loss = criterion(val_output, label)\n",
    "\n",
    "            acc = (val_output.argmax(dim=1) == label).float().sum()\n",
    "            epoch_val_accuracy += acc\n",
    "            epoch_val_loss += val_loss\n",
    "        end = time.time()\n",
    "    epoch_val_accuracy /= len(dataset)\n",
    "    epoch_val_loss /= len(dataset)\n",
    "    return epoch_val_accuracy, epoch_val_loss, (end - start)/len(test_dataset)"
   ]
  },
  {
   "cell_type": "code",
   "execution_count": 5,
   "id": "8d01fbd0",
   "metadata": {},
   "outputs": [],
   "source": [
    "model_paths = {\n",
    "    'mobilevit_s': r'C:\\Users\\Oleg\\Desktop\\CW\\models\\mobilevits-caltech256-e10-lr001-t69.pt',\n",
    "    'efficientformer': r'C:\\Users\\Oleg\\Desktop\\CW\\models\\eficcientformer-caltech256-e10-lr0003-t78.pt',\n",
    "    'deit_tiny': r'C:\\Users\\Oleg\\Desktop\\CW\\models\\deit_tiny_distilled_patch16_224-caltech256-e10-lr0001-t79.pt',\n",
    "    'vit_small': r'C:\\Users\\Oleg\\Desktop\\CW\\models\\vit_small_patch16_224-caltech256-e10-lr0002-t80.pt',\n",
    "    'swin_s3_tiny': r'C:\\Users\\Oleg\\Desktop\\CW\\models\\swin_s3_tiny_224-caltech256-e10-lr0002-t81.pt',\n",
    "    'swin_tiny_window7': r'C:\\Users\\Oleg\\Desktop\\CW\\models\\swin_tiny_patch4_window7_224-caltech256-e10-lr0001-t83.pt'\n",
    "}"
   ]
  },
  {
   "cell_type": "code",
   "execution_count": 6,
   "id": "d0abda8f",
   "metadata": {},
   "outputs": [],
   "source": [
    "device = 'cuda'"
   ]
  },
  {
   "cell_type": "code",
   "execution_count": 7,
   "id": "417bae7a",
   "metadata": {},
   "outputs": [],
   "source": [
    "model = torch.load(r'C:\\Users\\Oleg\\Desktop\\CW\\models\\deit_tiny_distilled_patch16_224-caltech256-e10-lr0001-t79.pt').to(device)"
   ]
  },
  {
   "cell_type": "code",
   "execution_count": 8,
   "id": "01ccd2cd",
   "metadata": {},
   "outputs": [
    {
     "name": "stdout",
     "output_type": "stream",
     "text": [
      "test_acc: 0.7996 - inference time GPU: 0.004864293549742017\n",
      "\n"
     ]
    }
   ],
   "source": [
    "test_accuracy, test_loss, inf_time=test(model.to(device), test_loader, test_dataset)\n",
    "print(f\"test_acc: {test_accuracy:.4f} - inference time GPU: {inf_time}\\n\")"
   ]
  },
  {
   "cell_type": "code",
   "execution_count": 9,
   "id": "94a277ba",
   "metadata": {},
   "outputs": [],
   "source": [
    "runs = 50\n",
    "batch_size = 256 \n",
    "input_size = model.default_cfg[\"input_size\"]"
   ]
  },
  {
   "cell_type": "code",
   "execution_count": 10,
   "id": "5356797b",
   "metadata": {},
   "outputs": [],
   "source": [
    "tome_model = copy.deepcopy(model)"
   ]
  },
  {
   "cell_type": "code",
   "execution_count": 11,
   "id": "df9b60b5",
   "metadata": {},
   "outputs": [
    {
     "name": "stderr",
     "output_type": "stream",
     "text": [
      "Benchmarking: 100%|████████████████████████████████████████████████████████████████████| 50/50 [00:20<00:00,  2.38it/s]\n"
     ]
    },
    {
     "name": "stdout",
     "output_type": "stream",
     "text": [
      "Throughput: 448.67 im/s\n"
     ]
    }
   ],
   "source": [
    "baseline_throughput = tome.utils.benchmark(\n",
    "    tome_model,\n",
    "    device=device,\n",
    "    verbose=True,\n",
    "    runs=runs,\n",
    "    batch_size=batch_size,\n",
    "    input_size=input_size\n",
    ")"
   ]
  },
  {
   "cell_type": "code",
   "execution_count": 12,
   "id": "47c861ed",
   "metadata": {},
   "outputs": [
    {
     "name": "stderr",
     "output_type": "stream",
     "text": [
      "Benchmarking: 100%|████████████████████████████████████████████████████████████████████| 50/50 [00:17<00:00,  2.80it/s]\n"
     ]
    },
    {
     "name": "stdout",
     "output_type": "stream",
     "text": [
      "Throughput: 656.93 im/s\n",
      "Throughput improvement: 1.46x\n"
     ]
    }
   ],
   "source": [
    "tome.patch.timm(tome_model)\n",
    "tome_model.r = 10\n",
    "tome_throughput = tome.utils.benchmark(\n",
    "    tome_model,\n",
    "    device=device,\n",
    "    verbose=True,\n",
    "    runs=runs,\n",
    "    batch_size=batch_size,\n",
    "    input_size=input_size\n",
    ")\n",
    "print(f\"Throughput improvement: {tome_throughput / baseline_throughput:.2f}x\")"
   ]
  },
  {
   "cell_type": "code",
   "execution_count": 13,
   "id": "7d0d8df1",
   "metadata": {},
   "outputs": [
    {
     "name": "stdout",
     "output_type": "stream",
     "text": [
      "test_acc: 0.7943 - inference time GPU: 0.0032330473162689986\n",
      "\n"
     ]
    }
   ],
   "source": [
    "test_accuracy, test_loss, inf_time=test(tome_model.to(device), test_loader, test_dataset)\n",
    "print(f\"test_acc: {test_accuracy:.4f} - inference time GPU: {inf_time}\\n\")"
   ]
  },
  {
   "cell_type": "code",
   "execution_count": 14,
   "id": "f7b5e6c4",
   "metadata": {},
   "outputs": [
    {
     "name": "stderr",
     "output_type": "stream",
     "text": [
      "Benchmarking: 100%|████████████████████████████████████████████████████████████████████| 50/50 [00:13<00:00,  3.77it/s]\n"
     ]
    },
    {
     "name": "stdout",
     "output_type": "stream",
     "text": [
      "Throughput: 886.25 im/s\n",
      "Throughput improvement: 1.98x\n"
     ]
    }
   ],
   "source": [
    "tome_model.r = 16\n",
    "tome_throughput = tome.utils.benchmark(\n",
    "    tome_model,\n",
    "    device=device,\n",
    "    verbose=True,\n",
    "    runs=runs,\n",
    "    batch_size=batch_size,\n",
    "    input_size=input_size\n",
    ")\n",
    "print(f\"Throughput improvement: {tome_throughput / baseline_throughput:.2f}x\")"
   ]
  },
  {
   "cell_type": "code",
   "execution_count": 15,
   "id": "81932951",
   "metadata": {},
   "outputs": [
    {
     "name": "stdout",
     "output_type": "stream",
     "text": [
      "test_acc: 0.7781 - inference time GPU: 0.003083465886967523\n",
      "\n"
     ]
    }
   ],
   "source": [
    "test_accuracy, test_loss, inf_time=test(tome_model.to(device), test_loader, test_dataset)\n",
    "print(f\"test_acc: {test_accuracy:.4f} - inference time GPU: {inf_time}\\n\")"
   ]
  },
  {
   "cell_type": "code",
   "execution_count": 16,
   "id": "ab056cef",
   "metadata": {},
   "outputs": [
    {
     "name": "stderr",
     "output_type": "stream",
     "text": [
      "Benchmarking: 100%|████████████████████████████████████████████████████████████████████| 50/50 [00:11<00:00,  4.53it/s]\n"
     ]
    },
    {
     "name": "stdout",
     "output_type": "stream",
     "text": [
      "Throughput: 1067.36 im/s\n",
      "Throughput improvement: 2.38x\n"
     ]
    }
   ],
   "source": [
    "tome_model.r = 20\n",
    "tome_throughput = tome.utils.benchmark(\n",
    "    tome_model,\n",
    "    device=device,\n",
    "    verbose=True,\n",
    "    runs=runs,\n",
    "    batch_size=batch_size,\n",
    "    input_size=input_size\n",
    ")\n",
    "print(f\"Throughput improvement: {tome_throughput / baseline_throughput:.2f}x\")"
   ]
  },
  {
   "cell_type": "code",
   "execution_count": 17,
   "id": "d2d08ae1",
   "metadata": {},
   "outputs": [
    {
     "name": "stdout",
     "output_type": "stream",
     "text": [
      "test_acc: 0.7213 - inference time GPU: 0.002936875941802044\n",
      "\n"
     ]
    }
   ],
   "source": [
    "test_accuracy, test_loss, inf_time=test(tome_model.to(device), test_loader, test_dataset)\n",
    "print(f\"test_acc: {test_accuracy:.4f} - inference time GPU: {inf_time}\\n\")"
   ]
  },
  {
   "cell_type": "code",
   "execution_count": 18,
   "id": "db6480cf",
   "metadata": {},
   "outputs": [],
   "source": [
    "tome_model.r = 10"
   ]
  },
  {
   "cell_type": "code",
   "execution_count": 19,
   "id": "a3c38a4d",
   "metadata": {},
   "outputs": [],
   "source": [
    "# сохранение модели с помощью dill\n",
    "PATH = \"tome_deit_tiny_distilled_patch16_224.pt\"\n",
    "with open(PATH, \"wb\") as f:\n",
    "    dill.dump(tome_model, f)"
   ]
  }
 ],
 "metadata": {
  "kernelspec": {
   "display_name": "Python 3",
   "language": "python",
   "name": "python3"
  },
  "language_info": {
   "codemirror_mode": {
    "name": "ipython",
    "version": 3
   },
   "file_extension": ".py",
   "mimetype": "text/x-python",
   "name": "python",
   "nbconvert_exporter": "python",
   "pygments_lexer": "ipython3",
   "version": "3.8.16"
  }
 },
 "nbformat": 4,
 "nbformat_minor": 5
}
